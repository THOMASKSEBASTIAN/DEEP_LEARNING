{
  "cells": [
    {
      "cell_type": "markdown",
      "metadata": {},
      "source": [
        "## An Activation Function decides whether a neuron should be activated or not. This means that it will decide whether the neuron's input to the network is important or not in the process of prediction using simpler mathematical operations."
      ]
    },
    {
      "cell_type": "markdown",
      "metadata": {
        "id": "mgcMOlkOyxRz"
      },
      "source": [
        "#Activation Function\n"
      ]
    },
    {
      "cell_type": "markdown",
      "metadata": {
        "id": "zZg-wmyiy2Hd"
      },
      "source": [
        "###Importing Libraries"
      ]
    },
    {
      "cell_type": "code",
      "execution_count": 12,
      "metadata": {
        "id": "sF93yphtyrhG"
      },
      "outputs": [],
      "source": [
        "import numpy\n",
        "from numpy import array #For Array Initialization\n",
        "from numpy import random #For Randomly choosing Numbers\n",
        "from numpy import dot #For Doing DOT Product\n",
        "from random import choice"
      ]
    },
    {
      "cell_type": "markdown",
      "metadata": {
        "id": "_J8gcaRE3FZA"
      },
      "source": [
        "###Initialized Dataset"
      ]
    },
    {
      "cell_type": "code",
      "execution_count": 13,
      "metadata": {
        "id": "t0gwhMN6zhse"
      },
      "outputs": [
        {
          "name": "stdout",
          "output_type": "stream",
          "text": [
            "[(array([0, 0, 1]), 0), (array([0, 1, 1]), 1), (array([1, 0, 1]), 1), (array([1, 1, 1]), 1)]\n",
            "[0 0 1] 0\n"
          ]
        }
      ],
      "source": [
        "dataset = [\n",
        "    (array([0,0,1]), 0), #array([x,y,b],e) x,y=Input , b=bias, e=Expected O/P to validate\n",
        "    (array([0,1,1]), 1),\n",
        "    (array([1,0,1]), 1),\n",
        "    (array([1,1,1]), 1),\n",
        "]\n",
        "print(dataset)\n",
        "print(array([0,0,1]), 0)"
      ]
    },
    {
      "cell_type": "markdown",
      "metadata": {
        "id": "K1t7I4cI3Myu"
      },
      "source": [
        "###Initializing Random numbers for WEIGHTS"
      ]
    },
    {
      "cell_type": "code",
      "execution_count": 14,
      "metadata": {
        "id": "gaCIPAqe3RIM"
      },
      "outputs": [
        {
          "data": {
            "text/plain": [
              "array([0.98481938, 0.84010774, 0.28679251])"
            ]
          },
          "execution_count": 14,
          "metadata": {},
          "output_type": "execute_result"
        }
      ],
      "source": [
        "weights = random.rand(3)\n",
        "weights"
      ]
    },
    {
      "cell_type": "markdown",
      "metadata": {
        "id": "mek19BC73eeJ"
      },
      "source": [
        "###Initializing additional variables"
      ]
    },
    {
      "cell_type": "code",
      "execution_count": 15,
      "metadata": {
        "id": "cmRWDOef3hk3"
      },
      "outputs": [],
      "source": [
        "r = 0.2 #learning Rate\n",
        "n = 100 #Number of Iteration"
      ]
    },
    {
      "cell_type": "markdown",
      "metadata": {
        "id": "8ZWkFpAX0yfF"
      },
      "source": [
        "##ACTIVATION FUNCTION"
      ]
    },
    {
      "cell_type": "markdown",
      "metadata": {
        "id": "qFkj9b4T2-fc"
      },
      "source": [
        "###Training & Evaluating using STEP Activation Function"
      ]
    },
    {
      "cell_type": "code",
      "execution_count": 16,
      "metadata": {
        "id": "xV6bz_6-3x77"
      },
      "outputs": [
        {
          "name": "stdout",
          "output_type": "stream",
          "text": [
            "ResultBAFn: -0.113 ResultAFn: 0\n",
            "ResultBAFn: 0.727 ResultAFn: 1\n",
            "ResultBAFn: 0.872 ResultAFn: 1\n",
            "ResultBAFn: 1.712 ResultAFn: 1\n"
          ]
        }
      ],
      "source": [
        "activationFn = lambda x: 0 if x < 0 else 1 #step activation function (if i/p is negative o/p is 0 else 1)\n",
        "for j in range(n):\n",
        "    x, expected = choice(dataset) \n",
        "    result = dot(weights, x)\n",
        "    err = expected-activationFn(result)\n",
        "    weights += r * err * x\n",
        "\n",
        "for x, _ in dataset:\n",
        "    result = dot(x, weights)\n",
        "    print(\"ResultBAFn: {} ResultAFn: {}\".format(round(result,3), activationFn(result)))    "
      ]
    },
    {
      "cell_type": "markdown",
      "metadata": {
        "id": "6AMAQwMw04NZ"
      },
      "source": [
        "###Training & Evaluating using LINEAR Activation Function\n"
      ]
    },
    {
      "cell_type": "code",
      "execution_count": 17,
      "metadata": {
        "id": "ggVhtsqy05ko"
      },
      "outputs": [
        {
          "name": "stdout",
          "output_type": "stream",
          "text": [
            "ResultBAFn: 0.256 ResultAFn: 0.2558914685421048\n",
            "ResultBAFn: 0.729 ResultAFn: 0.7285947139693758\n",
            "ResultBAFn: 0.81 ResultAFn: 0.8096957248513672\n",
            "ResultBAFn: 1.282 ResultAFn: 1.282398970278638\n"
          ]
        }
      ],
      "source": [
        "activationFn = lambda x: x \n",
        "\n",
        "for j in range(n):\n",
        "    x, expected = choice(dataset) \n",
        "    result = dot(weights, x) \n",
        "    err = expected-activationFn(result)\n",
        "    weights += r * err * x\n",
        "\n",
        "for x, _ in dataset:\n",
        "    result = dot(x, weights)\n",
        "    print(\"ResultBAFn: {} ResultAFn: {}\".format(round(result,3), activationFn(result)))    "
      ]
    },
    {
      "cell_type": "markdown",
      "metadata": {
        "id": "Pz204q2v1Zj2"
      },
      "source": [
        "###Training & Evaluating using SIGMOID Activation Function"
      ]
    },
    {
      "cell_type": "code",
      "execution_count": 18,
      "metadata": {},
      "outputs": [
        {
          "name": "stdout",
          "output_type": "stream",
          "text": [
            "ResultBAFn: -0.057 ResultAFn: 0.4858048535503802\n",
            "ResultBAFn: 1.784 ResultAFn: 0.8562391212792926\n",
            "ResultBAFn: 1.872 ResultAFn: 0.8667283222443579\n",
            "ResultBAFn: 3.714 ResultAFn: 0.9761894988286159\n"
          ]
        }
      ],
      "source": [
        "import numpy as np\n",
        "activationFn = lambda x: 1/(1+np.exp(-x))\n",
        "err = []\n",
        "for j in range(n):\n",
        "    x, expected = choice(dataset) \n",
        "    result = np.dot(weights, x) \n",
        "    error = expected - activationFn(result)\n",
        "    err.append(error)  # Append the error to the list 'err'\n",
        "    weights += r * error * x\n",
        "\n",
        "for x, _ in dataset:\n",
        "    result = np.dot(x, weights)\n",
        "    print(\"ResultBAFn: {} ResultAFn: {}\".format(round(result,3), activationFn(result)))\n"
      ]
    },
    {
      "cell_type": "markdown",
      "metadata": {
        "id": "k967JyLm4dTw"
      },
      "source": [
        "###Training & Evaluating using RELU Activation Function"
      ]
    },
    {
      "cell_type": "code",
      "execution_count": 19,
      "metadata": {
        "id": "0w3KJ2A81ynL"
      },
      "outputs": [
        {
          "name": "stdout",
          "output_type": "stream",
          "text": [
            "ResultBAFn: 0.061 ResultAFn: 0.061113961620669795\n",
            "ResultBAFn: 0.487 ResultAFn: 0.48662102582701505\n",
            "ResultBAFn: 0.689 ResultAFn: 0.6885699961538307\n",
            "ResultBAFn: 1.114 ResultAFn: 1.114077060360176\n"
          ]
        }
      ],
      "source": [
        "activationFn = lambda x: 0 if x < 0 else x \n",
        "for j in range(n):\n",
        "    x, expected = choice(dataset) \n",
        "    result = dot(weights, x)\n",
        "    err = expected-activationFn(result)\n",
        "    weights += r * err * x\n",
        "\n",
        "for x, _ in dataset:\n",
        "    result = dot(x, weights)\n",
        "    print(\"ResultBAFn: {} ResultAFn: {}\".format(round(result,3), activationFn(result)))    "
      ]
    },
    {
      "cell_type": "markdown",
      "metadata": {
        "id": "dhfA-Lkq5AbT"
      },
      "source": [
        "###Training & Evaluating using SOFTMAX Activation Function"
      ]
    },
    {
      "cell_type": "code",
      "execution_count": 21,
      "metadata": {
        "id": "vEurppgE5GAU"
      },
      "outputs": [],
      "source": [
        "# activationFn = lambda x: numpy.exp(x) / numpy.sum(numpy.exp(x), axis=0)\n",
        "# err = []\n",
        "# for j in range(n):\n",
        "#     x, expected = choice(dataset) \n",
        "#     result = dot(weights, x) \n",
        "#     err = expected-activationFn(result)\n",
        "#     error.append(err)\n",
        "#     weights += r * err * x\n",
        "\n",
        "# for x, _ in dataset:\n",
        "#     result = dot(x, weights)\n",
        "#     print(\"ResultBAFn: {} ResultAFn: {}\".format(round(result,3), activationFn(result)))    "
      ]
    },
    {
      "cell_type": "code",
      "execution_count": 22,
      "metadata": {},
      "outputs": [
        {
          "name": "stdout",
          "output_type": "stream",
          "text": [
            "ResultBAFn: -0.161 ResultAFn: 0.4597181522202971\n",
            "ResultBAFn: 1.669 ResultAFn: 0.8414623623512137\n",
            "ResultBAFn: 1.902 ResultAFn: 0.8701201374481804\n",
            "ResultBAFn: 3.733 ResultAFn: 0.9766298469538245\n"
          ]
        }
      ],
      "source": [
        "import numpy as np\n",
        "activationFn = lambda x: 1 / (1 + np.exp(-x))\n",
        "err = []\n",
        "for j in range(n):\n",
        "    x, expected = choice(dataset)\n",
        "    result = np.dot(weights, x)\n",
        "    error = expected - activationFn(result)\n",
        "    err.append(error)  # Append the error to the list 'err'\n",
        "    weights += r * error * x\n",
        "\n",
        "for x, _ in dataset:\n",
        "    result = np.dot(x, weights)\n",
        "    print(\"ResultBAFn: {} ResultAFn: {}\".format(round(result, 3), activationFn(result)))\n"
      ]
    },
    {
      "cell_type": "code",
      "execution_count": null,
      "metadata": {},
      "outputs": [],
      "source": []
    }
  ],
  "metadata": {
    "colab": {
      "collapsed_sections": [],
      "name": "2_DL_ActivationFunction.ipynb",
      "provenance": []
    },
    "kernelspec": {
      "display_name": "Python 3",
      "name": "python3"
    },
    "language_info": {
      "codemirror_mode": {
        "name": "ipython",
        "version": 3
      },
      "file_extension": ".py",
      "mimetype": "text/x-python",
      "name": "python",
      "nbconvert_exporter": "python",
      "pygments_lexer": "ipython3",
      "version": "3.10.2"
    }
  },
  "nbformat": 4,
  "nbformat_minor": 0
}
